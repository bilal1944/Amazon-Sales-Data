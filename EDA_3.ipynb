{
  "nbformat": 4,
  "nbformat_minor": 0,
  "metadata": {
    "colab": {
      "provenance": []
    },
    "kernelspec": {
      "name": "python3",
      "display_name": "Python 3"
    },
    "language_info": {
      "name": "python"
    }
  },
  "cells": [
    {
      "cell_type": "code",
      "execution_count": 1,
      "metadata": {
        "id": "sJFkzkpP_wfF"
      },
      "outputs": [],
      "source": [
        "# Computing Libraries\n",
        "import numpy as np\n",
        "import pandas as pd\n",
        "\n",
        "# Ploting Libraries\n",
        "import matplotlib.pyplot as plt\n",
        "import seaborn as sns"
      ]
    },
    {
      "cell_type": "code",
      "source": [
        "df = pd.read_csv(\"/content/amazon.csv\")\n",
        "df"
      ],
      "metadata": {
        "colab": {
          "base_uri": "https://localhost:8080/",
          "height": 1000
        },
        "id": "zIf1EbO3AJ0r",
        "outputId": "d322eb5f-4a2f-4ac9-b51f-5a633592df55"
      },
      "execution_count": 2,
      "outputs": [
        {
          "output_type": "execute_result",
          "data": {
            "text/plain": [
              "      product_id                                       product_name  \\\n",
              "0     B0BPJBTB3F  Khaitan ORFin Fan heater for Home and kitchen-...   \n",
              "1     B0BFBNXS94  Personal Size Blender, Portable Blender, Batte...   \n",
              "2     B0B7L86YCB  Green Tales Heat Seal Mini Food Sealer-Impulse...   \n",
              "3     B0BBVKRP7B  SHREENOVA ID116 Plus Bluetooth Fitness Smart W...   \n",
              "4     B0BNDGL26T  MR. BRAND Portable USB Juicer Electric USB Jui...   \n",
              "...          ...                                                ...   \n",
              "1460  B0BR4F878Q  Swiffer Instant Electric Water Heater Faucet T...   \n",
              "1461  B09ZHCJDP1  Amazon Basics Wireless Mouse | 2.4 GHz Connect...   \n",
              "1462  B0BP7XLX48  Syncwire LTG to USB Cable for Fast Charging Co...   \n",
              "1463  B0BQRJ3C47  REDTECH USB-C to Lightning Cable 3.3FT, [Apple...   \n",
              "1464  B08L12N5H1  Eureka Forbes car Vac 100 Watts Powerful Sucti...   \n",
              "\n",
              "                                               category discounted_price  \\\n",
              "0     Home&Kitchen|Heating,Cooling&AirQuality|RoomHe...           ₹1,299   \n",
              "1     Home&Kitchen|Kitchen&HomeAppliances|SmallKitch...             ₹669   \n",
              "2     Home&Kitchen|Kitchen&HomeAppliances|SmallKitch...             ₹161   \n",
              "3           Electronics|WearableTechnology|SmartWatches             ₹281   \n",
              "4     Home&Kitchen|Kitchen&HomeAppliances|SmallKitch...             ₹499   \n",
              "...                                                 ...              ...   \n",
              "1460  Home&Kitchen|Heating,Cooling&AirQuality|WaterH...           ₹1,439   \n",
              "1461  Computers&Accessories|Accessories&Peripherals|...             ₹499   \n",
              "1462  Computers&Accessories|Accessories&Peripherals|...             ₹399   \n",
              "1463  Computers&Accessories|Accessories&Peripherals|...             ₹249   \n",
              "1464  Home&Kitchen|Kitchen&HomeAppliances|Vacuum,Cle...           ₹2,099   \n",
              "\n",
              "     actual_price discount_percentage  rating rating_count  \\\n",
              "0          ₹2,495                 48%    2.00            2   \n",
              "1          ₹1,499                 55%    2.30           13   \n",
              "2            ₹300                 46%    2.60           24   \n",
              "3          ₹1,999                 86%    2.80           87   \n",
              "4          ₹2,199                 77%    2.80          109   \n",
              "...           ...                 ...     ...          ...   \n",
              "1460       ₹1,999                 28%    4.80       53,803   \n",
              "1461       ₹1,000                 50%    5.00           23   \n",
              "1462       ₹1,999                 80%    5.00            5   \n",
              "1463         ₹999                 75%    5.00          NaN   \n",
              "1464       ₹2,499                 16%    4.09          992   \n",
              "\n",
              "                                          about_product  \\\n",
              "0     Khaitan Orfin Fan heater for Home and kitchen|...   \n",
              "1     ✔【Easy to carry around】- This handheld blender...   \n",
              "2     Sealing Machine use for snack food saver stora...   \n",
              "3     ✅ All-day activity tracking: Track steps, dist...   \n",
              "4     Portable & Convenient to Charge: This little b...   \n",
              "...                                                 ...   \n",
              "1460  ✔Quick Electric Hot Water Tap Heating tube: hi...   \n",
              "1461  Reliable wireless connection up to 10m|Advance...   \n",
              "1462  This sturdy and durable cable made of tpe and ...   \n",
              "1463  💎[The Fastest Charge] - This iPhone USB C cabl...   \n",
              "1464  No Installation is provided for this product|1...   \n",
              "\n",
              "                                                user_id  \\\n",
              "0     AGHT3K4KSG5MAQUSXRDT5VNB73GA,AE4Q5XQ7SZW35EEUJ...   \n",
              "1     AHRDA66XO63XYCBZJMW4EUJN3BFQ,AELE2SOO7LBNHXU7U...   \n",
              "2     AG2BB3Q2AQB7SBFBURGYSMFHDAOA,AGFXIO346VXYI35AN...   \n",
              "3     AHSYI7EUDN2RNS2IPMGAS5MKLXPQ,AHHLJNBYVOGQSFG2Q...   \n",
              "4     AEJKHGA26MUVUZIYWZOW4B6I4X7Q,AF3B47EOSBULYG63E...   \n",
              "...                                                 ...   \n",
              "1460  AEU7DVFEL43XZ6T4D572W2ZLBRKQ,AGWOH7CFDMUVW52NM...   \n",
              "1461  AFLLEPVLIAH2DFSHAZ77KWFM72ZA,AHY2YZWK63CNZ626M...   \n",
              "1462  AF7EOXYL5K36BDP6PXF6K2TL5TPA,AEN7NV2P5WNHM7EXC...   \n",
              "1463                       AGJC5O5H5BBXWUV7WRIEIOOR3TVQ   \n",
              "1464  AGTDSNT2FKVYEPDPXAA673AIS44A,AER2XFSWNN4LAUCJ5...   \n",
              "\n",
              "                                              user_name  \\\n",
              "0                             Manidipa Sengupta,Vidisha   \n",
              "1         Manya,Been,Podili Parasuram,Rejoy Jacob,Priya   \n",
              "2     Navin thawani,Amazon Customer,Jemiba Lawrence,...   \n",
              "3     dk yadav,MUKESH KUMAR VERMA,Vishnu,Shaikh Shah...   \n",
              "4     Yashvant Gote,Nargis Sultana,S.I.KUMAR,Ravi,Lo...   \n",
              "...                                                 ...   \n",
              "1460                    Yogita g.,Amazon Customer,Mimsy   \n",
              "1461  Rambeer kumar,Ramesh,Digambar Shelke,awadhesh ...   \n",
              "1462  Amazon Customer,kamal sahota,Pankaj,luvsmplcty...   \n",
              "1463                                        Abdul Gafur   \n",
              "1464  Divya,Dr Nefario,Deekshith,Preeti,Prasanth R,P...   \n",
              "\n",
              "                                              review_id  \\\n",
              "0                          R1OO2ED6615EX1,RR4S5JTJMCPA5   \n",
              "1     R1WJ8T3U9P42IU,RM9RH8FX9U95D,R31M8UXT7NLOMY,R1...   \n",
              "2     R3M6NH8U0C7JBM,R32DO8SLNF2JSA,R3U0NCD7XO2KX4,R...   \n",
              "3     RQOWF9MFTN6CQ,R23B5JORWWE85P,R3SB0VOD36AXI0,R2...   \n",
              "4     RGB7OLWZEBW2D,R35V1I6KBBWDA1,R2S9K0UTNSD0L6,R3...   \n",
              "...                                                 ...   \n",
              "1460       R2WHW4PEF14WOD,R2DCCZWUGI0O0K,R1FA1HH6VL1RAL   \n",
              "1461  R76XPXMKXLWKH,R23S77AWPH5FP5,RK7Q6W5FOPESC,R2X...   \n",
              "1462  R1L2JNO4Y3BHYF,R2346F22YLZ9IG,R3A4GAQTCPE5U7,R...   \n",
              "1463                                      RQXD5SAMMPC6L   \n",
              "1464  R2KKTKM4M9RDVJ,R1O692MZOBTE79,R2WRSEWL56SOS4,R...   \n",
              "\n",
              "                                           review_title  \\\n",
              "0                         Bad quality,Amazing product..   \n",
              "1     Nice product i recommend to buy,Do not buy!! D...   \n",
              "2     It is broken,Could have been a bit better,The ...   \n",
              "3     Very Good prodat,Battery life is 0 day,Good,Wh...   \n",
              "4     Portable but not much powerful,not so good. po...   \n",
              "...                                                 ...   \n",
              "1460  Best Product,It’s expansive but it works well ...   \n",
              "1461  Very responsive and stylish mouse,Simply Aweso...   \n",
              "1462  Good,Superb quality,Good products  nice one,Wo...   \n",
              "1463                                    Awesome Product   \n",
              "1464  Decent product,doesn't pick up sand,Ok ok,Must...   \n",
              "\n",
              "                                         review_content  \\\n",
              "0     The heating capacity is zero .Moreover i have ...   \n",
              "1     I liked that it is so convenient to carry,Wast...   \n",
              "2     It is broken and it is not useful. Please chan...   \n",
              "3     Good Prodat,Battery life is so bad.,Nice produ...   \n",
              "4     Not sufficient power,the product is more like ...   \n",
              "...                                                 ...   \n",
              "1460  Must buy best Fabulous product I recommend thi...   \n",
              "1461  I really like this wireless mouse it has becam...   \n",
              "1462  Product is good in quality. Working good with ...   \n",
              "1463  Quick delivery.Awesome ProductPacking was good...   \n",
              "1464  Does the job well,doesn't work on sand. though...   \n",
              "\n",
              "                                               img_link  \\\n",
              "0     https://m.media-amazon.com/images/W/WEBP_40237...   \n",
              "1     https://m.media-amazon.com/images/I/417TQs3uro...   \n",
              "2     https://m.media-amazon.com/images/W/WEBP_40237...   \n",
              "3     https://m.media-amazon.com/images/I/41lnTFZGz9...   \n",
              "4     https://m.media-amazon.com/images/I/51pFS9lDzM...   \n",
              "...                                                 ...   \n",
              "1460  https://m.media-amazon.com/images/I/41+t2HWvwF...   \n",
              "1461  https://m.media-amazon.com/images/I/31+Rg6Z46d...   \n",
              "1462  https://m.media-amazon.com/images/I/317OoQfs1g...   \n",
              "1463  https://m.media-amazon.com/images/I/31-q0xhaTA...   \n",
              "1464  https://m.media-amazon.com/images/W/WEBP_40237...   \n",
              "\n",
              "                                           product_link  \n",
              "0     https://www.amazon.in/Khaitan-ORFin-heater-Hom...  \n",
              "1     https://www.amazon.in/Personal-Blender-Portabl...  \n",
              "2     https://www.amazon.in/Green-Tales-Sealer-Impul...  \n",
              "3     https://www.amazon.in/SHREENOVA-Bluetooth-Fitn...  \n",
              "4     https://www.amazon.in/MR-BRAND-Portable-Electr...  \n",
              "...                                                 ...  \n",
              "1460  https://www.amazon.in/Swiffer-Instant-Electric...  \n",
              "1461  https://www.amazon.in/Wireless-Connection-Batt...  \n",
              "1462  https://www.amazon.in/Syncwire-Cable-Charging-...  \n",
              "1463  https://www.amazon.in/REDTECH-Lightning-Certif...  \n",
              "1464  https://www.amazon.in/Eureka-Forbes-Vacuum-Cle...  \n",
              "\n",
              "[1465 rows x 16 columns]"
            ],
            "text/html": [
              "\n",
              "\n",
              "  <div id=\"df-6f632597-0f57-49cb-b787-015e4821c5e3\">\n",
              "    <div class=\"colab-df-container\">\n",
              "      <div>\n",
              "<style scoped>\n",
              "    .dataframe tbody tr th:only-of-type {\n",
              "        vertical-align: middle;\n",
              "    }\n",
              "\n",
              "    .dataframe tbody tr th {\n",
              "        vertical-align: top;\n",
              "    }\n",
              "\n",
              "    .dataframe thead th {\n",
              "        text-align: right;\n",
              "    }\n",
              "</style>\n",
              "<table border=\"1\" class=\"dataframe\">\n",
              "  <thead>\n",
              "    <tr style=\"text-align: right;\">\n",
              "      <th></th>\n",
              "      <th>product_id</th>\n",
              "      <th>product_name</th>\n",
              "      <th>category</th>\n",
              "      <th>discounted_price</th>\n",
              "      <th>actual_price</th>\n",
              "      <th>discount_percentage</th>\n",
              "      <th>rating</th>\n",
              "      <th>rating_count</th>\n",
              "      <th>about_product</th>\n",
              "      <th>user_id</th>\n",
              "      <th>user_name</th>\n",
              "      <th>review_id</th>\n",
              "      <th>review_title</th>\n",
              "      <th>review_content</th>\n",
              "      <th>img_link</th>\n",
              "      <th>product_link</th>\n",
              "    </tr>\n",
              "  </thead>\n",
              "  <tbody>\n",
              "    <tr>\n",
              "      <th>0</th>\n",
              "      <td>B0BPJBTB3F</td>\n",
              "      <td>Khaitan ORFin Fan heater for Home and kitchen-...</td>\n",
              "      <td>Home&amp;Kitchen|Heating,Cooling&amp;AirQuality|RoomHe...</td>\n",
              "      <td>₹1,299</td>\n",
              "      <td>₹2,495</td>\n",
              "      <td>48%</td>\n",
              "      <td>2.00</td>\n",
              "      <td>2</td>\n",
              "      <td>Khaitan Orfin Fan heater for Home and kitchen|...</td>\n",
              "      <td>AGHT3K4KSG5MAQUSXRDT5VNB73GA,AE4Q5XQ7SZW35EEUJ...</td>\n",
              "      <td>Manidipa Sengupta,Vidisha</td>\n",
              "      <td>R1OO2ED6615EX1,RR4S5JTJMCPA5</td>\n",
              "      <td>Bad quality,Amazing product..</td>\n",
              "      <td>The heating capacity is zero .Moreover i have ...</td>\n",
              "      <td>https://m.media-amazon.com/images/W/WEBP_40237...</td>\n",
              "      <td>https://www.amazon.in/Khaitan-ORFin-heater-Hom...</td>\n",
              "    </tr>\n",
              "    <tr>\n",
              "      <th>1</th>\n",
              "      <td>B0BFBNXS94</td>\n",
              "      <td>Personal Size Blender, Portable Blender, Batte...</td>\n",
              "      <td>Home&amp;Kitchen|Kitchen&amp;HomeAppliances|SmallKitch...</td>\n",
              "      <td>₹669</td>\n",
              "      <td>₹1,499</td>\n",
              "      <td>55%</td>\n",
              "      <td>2.30</td>\n",
              "      <td>13</td>\n",
              "      <td>✔【Easy to carry around】- This handheld blender...</td>\n",
              "      <td>AHRDA66XO63XYCBZJMW4EUJN3BFQ,AELE2SOO7LBNHXU7U...</td>\n",
              "      <td>Manya,Been,Podili Parasuram,Rejoy Jacob,Priya</td>\n",
              "      <td>R1WJ8T3U9P42IU,RM9RH8FX9U95D,R31M8UXT7NLOMY,R1...</td>\n",
              "      <td>Nice product i recommend to buy,Do not buy!! D...</td>\n",
              "      <td>I liked that it is so convenient to carry,Wast...</td>\n",
              "      <td>https://m.media-amazon.com/images/I/417TQs3uro...</td>\n",
              "      <td>https://www.amazon.in/Personal-Blender-Portabl...</td>\n",
              "    </tr>\n",
              "    <tr>\n",
              "      <th>2</th>\n",
              "      <td>B0B7L86YCB</td>\n",
              "      <td>Green Tales Heat Seal Mini Food Sealer-Impulse...</td>\n",
              "      <td>Home&amp;Kitchen|Kitchen&amp;HomeAppliances|SmallKitch...</td>\n",
              "      <td>₹161</td>\n",
              "      <td>₹300</td>\n",
              "      <td>46%</td>\n",
              "      <td>2.60</td>\n",
              "      <td>24</td>\n",
              "      <td>Sealing Machine use for snack food saver stora...</td>\n",
              "      <td>AG2BB3Q2AQB7SBFBURGYSMFHDAOA,AGFXIO346VXYI35AN...</td>\n",
              "      <td>Navin thawani,Amazon Customer,Jemiba Lawrence,...</td>\n",
              "      <td>R3M6NH8U0C7JBM,R32DO8SLNF2JSA,R3U0NCD7XO2KX4,R...</td>\n",
              "      <td>It is broken,Could have been a bit better,The ...</td>\n",
              "      <td>It is broken and it is not useful. Please chan...</td>\n",
              "      <td>https://m.media-amazon.com/images/W/WEBP_40237...</td>\n",
              "      <td>https://www.amazon.in/Green-Tales-Sealer-Impul...</td>\n",
              "    </tr>\n",
              "    <tr>\n",
              "      <th>3</th>\n",
              "      <td>B0BBVKRP7B</td>\n",
              "      <td>SHREENOVA ID116 Plus Bluetooth Fitness Smart W...</td>\n",
              "      <td>Electronics|WearableTechnology|SmartWatches</td>\n",
              "      <td>₹281</td>\n",
              "      <td>₹1,999</td>\n",
              "      <td>86%</td>\n",
              "      <td>2.80</td>\n",
              "      <td>87</td>\n",
              "      <td>✅ All-day activity tracking: Track steps, dist...</td>\n",
              "      <td>AHSYI7EUDN2RNS2IPMGAS5MKLXPQ,AHHLJNBYVOGQSFG2Q...</td>\n",
              "      <td>dk yadav,MUKESH KUMAR VERMA,Vishnu,Shaikh Shah...</td>\n",
              "      <td>RQOWF9MFTN6CQ,R23B5JORWWE85P,R3SB0VOD36AXI0,R2...</td>\n",
              "      <td>Very Good prodat,Battery life is 0 day,Good,Wh...</td>\n",
              "      <td>Good Prodat,Battery life is so bad.,Nice produ...</td>\n",
              "      <td>https://m.media-amazon.com/images/I/41lnTFZGz9...</td>\n",
              "      <td>https://www.amazon.in/SHREENOVA-Bluetooth-Fitn...</td>\n",
              "    </tr>\n",
              "    <tr>\n",
              "      <th>4</th>\n",
              "      <td>B0BNDGL26T</td>\n",
              "      <td>MR. BRAND Portable USB Juicer Electric USB Jui...</td>\n",
              "      <td>Home&amp;Kitchen|Kitchen&amp;HomeAppliances|SmallKitch...</td>\n",
              "      <td>₹499</td>\n",
              "      <td>₹2,199</td>\n",
              "      <td>77%</td>\n",
              "      <td>2.80</td>\n",
              "      <td>109</td>\n",
              "      <td>Portable &amp; Convenient to Charge: This little b...</td>\n",
              "      <td>AEJKHGA26MUVUZIYWZOW4B6I4X7Q,AF3B47EOSBULYG63E...</td>\n",
              "      <td>Yashvant Gote,Nargis Sultana,S.I.KUMAR,Ravi,Lo...</td>\n",
              "      <td>RGB7OLWZEBW2D,R35V1I6KBBWDA1,R2S9K0UTNSD0L6,R3...</td>\n",
              "      <td>Portable but not much powerful,not so good. po...</td>\n",
              "      <td>Not sufficient power,the product is more like ...</td>\n",
              "      <td>https://m.media-amazon.com/images/I/51pFS9lDzM...</td>\n",
              "      <td>https://www.amazon.in/MR-BRAND-Portable-Electr...</td>\n",
              "    </tr>\n",
              "    <tr>\n",
              "      <th>...</th>\n",
              "      <td>...</td>\n",
              "      <td>...</td>\n",
              "      <td>...</td>\n",
              "      <td>...</td>\n",
              "      <td>...</td>\n",
              "      <td>...</td>\n",
              "      <td>...</td>\n",
              "      <td>...</td>\n",
              "      <td>...</td>\n",
              "      <td>...</td>\n",
              "      <td>...</td>\n",
              "      <td>...</td>\n",
              "      <td>...</td>\n",
              "      <td>...</td>\n",
              "      <td>...</td>\n",
              "      <td>...</td>\n",
              "    </tr>\n",
              "    <tr>\n",
              "      <th>1460</th>\n",
              "      <td>B0BR4F878Q</td>\n",
              "      <td>Swiffer Instant Electric Water Heater Faucet T...</td>\n",
              "      <td>Home&amp;Kitchen|Heating,Cooling&amp;AirQuality|WaterH...</td>\n",
              "      <td>₹1,439</td>\n",
              "      <td>₹1,999</td>\n",
              "      <td>28%</td>\n",
              "      <td>4.80</td>\n",
              "      <td>53,803</td>\n",
              "      <td>✔Quick Electric Hot Water Tap Heating tube: hi...</td>\n",
              "      <td>AEU7DVFEL43XZ6T4D572W2ZLBRKQ,AGWOH7CFDMUVW52NM...</td>\n",
              "      <td>Yogita g.,Amazon Customer,Mimsy</td>\n",
              "      <td>R2WHW4PEF14WOD,R2DCCZWUGI0O0K,R1FA1HH6VL1RAL</td>\n",
              "      <td>Best Product,It’s expansive but it works well ...</td>\n",
              "      <td>Must buy best Fabulous product I recommend thi...</td>\n",
              "      <td>https://m.media-amazon.com/images/I/41+t2HWvwF...</td>\n",
              "      <td>https://www.amazon.in/Swiffer-Instant-Electric...</td>\n",
              "    </tr>\n",
              "    <tr>\n",
              "      <th>1461</th>\n",
              "      <td>B09ZHCJDP1</td>\n",
              "      <td>Amazon Basics Wireless Mouse | 2.4 GHz Connect...</td>\n",
              "      <td>Computers&amp;Accessories|Accessories&amp;Peripherals|...</td>\n",
              "      <td>₹499</td>\n",
              "      <td>₹1,000</td>\n",
              "      <td>50%</td>\n",
              "      <td>5.00</td>\n",
              "      <td>23</td>\n",
              "      <td>Reliable wireless connection up to 10m|Advance...</td>\n",
              "      <td>AFLLEPVLIAH2DFSHAZ77KWFM72ZA,AHY2YZWK63CNZ626M...</td>\n",
              "      <td>Rambeer kumar,Ramesh,Digambar Shelke,awadhesh ...</td>\n",
              "      <td>R76XPXMKXLWKH,R23S77AWPH5FP5,RK7Q6W5FOPESC,R2X...</td>\n",
              "      <td>Very responsive and stylish mouse,Simply Aweso...</td>\n",
              "      <td>I really like this wireless mouse it has becam...</td>\n",
              "      <td>https://m.media-amazon.com/images/I/31+Rg6Z46d...</td>\n",
              "      <td>https://www.amazon.in/Wireless-Connection-Batt...</td>\n",
              "    </tr>\n",
              "    <tr>\n",
              "      <th>1462</th>\n",
              "      <td>B0BP7XLX48</td>\n",
              "      <td>Syncwire LTG to USB Cable for Fast Charging Co...</td>\n",
              "      <td>Computers&amp;Accessories|Accessories&amp;Peripherals|...</td>\n",
              "      <td>₹399</td>\n",
              "      <td>₹1,999</td>\n",
              "      <td>80%</td>\n",
              "      <td>5.00</td>\n",
              "      <td>5</td>\n",
              "      <td>This sturdy and durable cable made of tpe and ...</td>\n",
              "      <td>AF7EOXYL5K36BDP6PXF6K2TL5TPA,AEN7NV2P5WNHM7EXC...</td>\n",
              "      <td>Amazon Customer,kamal sahota,Pankaj,luvsmplcty...</td>\n",
              "      <td>R1L2JNO4Y3BHYF,R2346F22YLZ9IG,R3A4GAQTCPE5U7,R...</td>\n",
              "      <td>Good,Superb quality,Good products  nice one,Wo...</td>\n",
              "      <td>Product is good in quality. Working good with ...</td>\n",
              "      <td>https://m.media-amazon.com/images/I/317OoQfs1g...</td>\n",
              "      <td>https://www.amazon.in/Syncwire-Cable-Charging-...</td>\n",
              "    </tr>\n",
              "    <tr>\n",
              "      <th>1463</th>\n",
              "      <td>B0BQRJ3C47</td>\n",
              "      <td>REDTECH USB-C to Lightning Cable 3.3FT, [Apple...</td>\n",
              "      <td>Computers&amp;Accessories|Accessories&amp;Peripherals|...</td>\n",
              "      <td>₹249</td>\n",
              "      <td>₹999</td>\n",
              "      <td>75%</td>\n",
              "      <td>5.00</td>\n",
              "      <td>NaN</td>\n",
              "      <td>💎[The Fastest Charge] - This iPhone USB C cabl...</td>\n",
              "      <td>AGJC5O5H5BBXWUV7WRIEIOOR3TVQ</td>\n",
              "      <td>Abdul Gafur</td>\n",
              "      <td>RQXD5SAMMPC6L</td>\n",
              "      <td>Awesome Product</td>\n",
              "      <td>Quick delivery.Awesome ProductPacking was good...</td>\n",
              "      <td>https://m.media-amazon.com/images/I/31-q0xhaTA...</td>\n",
              "      <td>https://www.amazon.in/REDTECH-Lightning-Certif...</td>\n",
              "    </tr>\n",
              "    <tr>\n",
              "      <th>1464</th>\n",
              "      <td>B08L12N5H1</td>\n",
              "      <td>Eureka Forbes car Vac 100 Watts Powerful Sucti...</td>\n",
              "      <td>Home&amp;Kitchen|Kitchen&amp;HomeAppliances|Vacuum,Cle...</td>\n",
              "      <td>₹2,099</td>\n",
              "      <td>₹2,499</td>\n",
              "      <td>16%</td>\n",
              "      <td>4.09</td>\n",
              "      <td>992</td>\n",
              "      <td>No Installation is provided for this product|1...</td>\n",
              "      <td>AGTDSNT2FKVYEPDPXAA673AIS44A,AER2XFSWNN4LAUCJ5...</td>\n",
              "      <td>Divya,Dr Nefario,Deekshith,Preeti,Prasanth R,P...</td>\n",
              "      <td>R2KKTKM4M9RDVJ,R1O692MZOBTE79,R2WRSEWL56SOS4,R...</td>\n",
              "      <td>Decent product,doesn't pick up sand,Ok ok,Must...</td>\n",
              "      <td>Does the job well,doesn't work on sand. though...</td>\n",
              "      <td>https://m.media-amazon.com/images/W/WEBP_40237...</td>\n",
              "      <td>https://www.amazon.in/Eureka-Forbes-Vacuum-Cle...</td>\n",
              "    </tr>\n",
              "  </tbody>\n",
              "</table>\n",
              "<p>1465 rows × 16 columns</p>\n",
              "</div>\n",
              "      <button class=\"colab-df-convert\" onclick=\"convertToInteractive('df-6f632597-0f57-49cb-b787-015e4821c5e3')\"\n",
              "              title=\"Convert this dataframe to an interactive table.\"\n",
              "              style=\"display:none;\">\n",
              "\n",
              "  <svg xmlns=\"http://www.w3.org/2000/svg\" height=\"24px\"viewBox=\"0 0 24 24\"\n",
              "       width=\"24px\">\n",
              "    <path d=\"M0 0h24v24H0V0z\" fill=\"none\"/>\n",
              "    <path d=\"M18.56 5.44l.94 2.06.94-2.06 2.06-.94-2.06-.94-.94-2.06-.94 2.06-2.06.94zm-11 1L8.5 8.5l.94-2.06 2.06-.94-2.06-.94L8.5 2.5l-.94 2.06-2.06.94zm10 10l.94 2.06.94-2.06 2.06-.94-2.06-.94-.94-2.06-.94 2.06-2.06.94z\"/><path d=\"M17.41 7.96l-1.37-1.37c-.4-.4-.92-.59-1.43-.59-.52 0-1.04.2-1.43.59L10.3 9.45l-7.72 7.72c-.78.78-.78 2.05 0 2.83L4 21.41c.39.39.9.59 1.41.59.51 0 1.02-.2 1.41-.59l7.78-7.78 2.81-2.81c.8-.78.8-2.07 0-2.86zM5.41 20L4 18.59l7.72-7.72 1.47 1.35L5.41 20z\"/>\n",
              "  </svg>\n",
              "      </button>\n",
              "\n",
              "\n",
              "\n",
              "    <div id=\"df-a4c17527-0763-4aeb-950d-acf08f951c32\">\n",
              "      <button class=\"colab-df-quickchart\" onclick=\"quickchart('df-a4c17527-0763-4aeb-950d-acf08f951c32')\"\n",
              "              title=\"Suggest charts.\"\n",
              "              style=\"display:none;\">\n",
              "\n",
              "<svg xmlns=\"http://www.w3.org/2000/svg\" height=\"24px\"viewBox=\"0 0 24 24\"\n",
              "     width=\"24px\">\n",
              "    <g>\n",
              "        <path d=\"M19 3H5c-1.1 0-2 .9-2 2v14c0 1.1.9 2 2 2h14c1.1 0 2-.9 2-2V5c0-1.1-.9-2-2-2zM9 17H7v-7h2v7zm4 0h-2V7h2v10zm4 0h-2v-4h2v4z\"/>\n",
              "    </g>\n",
              "</svg>\n",
              "      </button>\n",
              "    </div>\n",
              "\n",
              "<style>\n",
              "  .colab-df-quickchart {\n",
              "    background-color: #E8F0FE;\n",
              "    border: none;\n",
              "    border-radius: 50%;\n",
              "    cursor: pointer;\n",
              "    display: none;\n",
              "    fill: #1967D2;\n",
              "    height: 32px;\n",
              "    padding: 0 0 0 0;\n",
              "    width: 32px;\n",
              "  }\n",
              "\n",
              "  .colab-df-quickchart:hover {\n",
              "    background-color: #E2EBFA;\n",
              "    box-shadow: 0px 1px 2px rgba(60, 64, 67, 0.3), 0px 1px 3px 1px rgba(60, 64, 67, 0.15);\n",
              "    fill: #174EA6;\n",
              "  }\n",
              "\n",
              "  [theme=dark] .colab-df-quickchart {\n",
              "    background-color: #3B4455;\n",
              "    fill: #D2E3FC;\n",
              "  }\n",
              "\n",
              "  [theme=dark] .colab-df-quickchart:hover {\n",
              "    background-color: #434B5C;\n",
              "    box-shadow: 0px 1px 3px 1px rgba(0, 0, 0, 0.15);\n",
              "    filter: drop-shadow(0px 1px 2px rgba(0, 0, 0, 0.3));\n",
              "    fill: #FFFFFF;\n",
              "  }\n",
              "</style>\n",
              "\n",
              "    <script>\n",
              "      async function quickchart(key) {\n",
              "        const containerElement = document.querySelector('#' + key);\n",
              "        const charts = await google.colab.kernel.invokeFunction(\n",
              "            'suggestCharts', [key], {});\n",
              "      }\n",
              "    </script>\n",
              "\n",
              "      <script>\n",
              "\n",
              "function displayQuickchartButton(domScope) {\n",
              "  let quickchartButtonEl =\n",
              "    domScope.querySelector('#df-a4c17527-0763-4aeb-950d-acf08f951c32 button.colab-df-quickchart');\n",
              "  quickchartButtonEl.style.display =\n",
              "    google.colab.kernel.accessAllowed ? 'block' : 'none';\n",
              "}\n",
              "\n",
              "        displayQuickchartButton(document);\n",
              "      </script>\n",
              "      <style>\n",
              "    .colab-df-container {\n",
              "      display:flex;\n",
              "      flex-wrap:wrap;\n",
              "      gap: 12px;\n",
              "    }\n",
              "\n",
              "    .colab-df-convert {\n",
              "      background-color: #E8F0FE;\n",
              "      border: none;\n",
              "      border-radius: 50%;\n",
              "      cursor: pointer;\n",
              "      display: none;\n",
              "      fill: #1967D2;\n",
              "      height: 32px;\n",
              "      padding: 0 0 0 0;\n",
              "      width: 32px;\n",
              "    }\n",
              "\n",
              "    .colab-df-convert:hover {\n",
              "      background-color: #E2EBFA;\n",
              "      box-shadow: 0px 1px 2px rgba(60, 64, 67, 0.3), 0px 1px 3px 1px rgba(60, 64, 67, 0.15);\n",
              "      fill: #174EA6;\n",
              "    }\n",
              "\n",
              "    [theme=dark] .colab-df-convert {\n",
              "      background-color: #3B4455;\n",
              "      fill: #D2E3FC;\n",
              "    }\n",
              "\n",
              "    [theme=dark] .colab-df-convert:hover {\n",
              "      background-color: #434B5C;\n",
              "      box-shadow: 0px 1px 3px 1px rgba(0, 0, 0, 0.15);\n",
              "      filter: drop-shadow(0px 1px 2px rgba(0, 0, 0, 0.3));\n",
              "      fill: #FFFFFF;\n",
              "    }\n",
              "  </style>\n",
              "\n",
              "      <script>\n",
              "        const buttonEl =\n",
              "          document.querySelector('#df-6f632597-0f57-49cb-b787-015e4821c5e3 button.colab-df-convert');\n",
              "        buttonEl.style.display =\n",
              "          google.colab.kernel.accessAllowed ? 'block' : 'none';\n",
              "\n",
              "        async function convertToInteractive(key) {\n",
              "          const element = document.querySelector('#df-6f632597-0f57-49cb-b787-015e4821c5e3');\n",
              "          const dataTable =\n",
              "            await google.colab.kernel.invokeFunction('convertToInteractive',\n",
              "                                                     [key], {});\n",
              "          if (!dataTable) return;\n",
              "\n",
              "          const docLinkHtml = 'Like what you see? Visit the ' +\n",
              "            '<a target=\"_blank\" href=https://colab.research.google.com/notebooks/data_table.ipynb>data table notebook</a>'\n",
              "            + ' to learn more about interactive tables.';\n",
              "          element.innerHTML = '';\n",
              "          dataTable['output_type'] = 'display_data';\n",
              "          await google.colab.output.renderOutput(dataTable, element);\n",
              "          const docLink = document.createElement('div');\n",
              "          docLink.innerHTML = docLinkHtml;\n",
              "          element.appendChild(docLink);\n",
              "        }\n",
              "      </script>\n",
              "    </div>\n",
              "  </div>\n"
            ]
          },
          "metadata": {},
          "execution_count": 2
        }
      ]
    },
    {
      "cell_type": "code",
      "source": [
        "# Question 1: What are the dimensions of the dataset?\n",
        "df.shape"
      ],
      "metadata": {
        "colab": {
          "base_uri": "https://localhost:8080/"
        },
        "id": "WQiFp574A5oO",
        "outputId": "32c0698c-ac77-4b2a-86c0-43a0652d18e4"
      },
      "execution_count": null,
      "outputs": [
        {
          "output_type": "execute_result",
          "data": {
            "text/plain": [
              "(1465, 16)"
            ]
          },
          "metadata": {},
          "execution_count": 4
        }
      ]
    },
    {
      "cell_type": "code",
      "source": [
        "# Question 2: What are the column names?\n",
        "columns = df.columns\n",
        "print(columns)"
      ],
      "metadata": {
        "colab": {
          "base_uri": "https://localhost:8080/"
        },
        "id": "eJVZUhrQBDiK",
        "outputId": "d8b0f2ba-38c8-4aa8-c30e-cdc6a225319f"
      },
      "execution_count": null,
      "outputs": [
        {
          "output_type": "stream",
          "name": "stdout",
          "text": [
            "Index(['product_id', 'product_name', 'category', 'discounted_price',\n",
            "       'actual_price', 'discount_percentage', 'rating', 'rating_count',\n",
            "       'about_product', 'user_id', 'user_name', 'review_id', 'review_title',\n",
            "       'review_content', 'img_link', 'product_link'],\n",
            "      dtype='object')\n"
          ]
        }
      ]
    },
    {
      "cell_type": "code",
      "source": [
        " # Question 3: Are there any missing values in the dataset?\n",
        " missing_values = df.isnull().sum()\n",
        " print(missing_values)"
      ],
      "metadata": {
        "colab": {
          "base_uri": "https://localhost:8080/"
        },
        "id": "kqJQpuKuBXDY",
        "outputId": "78dcf562-52f6-47ab-845b-9ab5bbc11c59"
      },
      "execution_count": null,
      "outputs": [
        {
          "output_type": "stream",
          "name": "stdout",
          "text": [
            "product_id             0\n",
            "product_name           0\n",
            "category               0\n",
            "discounted_price       0\n",
            "actual_price           0\n",
            "discount_percentage    0\n",
            "rating                 0\n",
            "rating_count           2\n",
            "about_product          0\n",
            "user_id                0\n",
            "user_name              0\n",
            "review_id              0\n",
            "review_title           0\n",
            "review_content         0\n",
            "img_link               0\n",
            "product_link           0\n",
            "dtype: int64\n"
          ]
        }
      ]
    },
    {
      "cell_type": "code",
      "source": [
        "# Question 4: What are the data types of the columns?\n",
        "print(\"Data Types\")\n",
        "print(df.dtypes)"
      ],
      "metadata": {
        "colab": {
          "base_uri": "https://localhost:8080/"
        },
        "id": "BkmW2t61BsFG",
        "outputId": "7c31d37a-93cf-4706-e67a-2462d390a5a4"
      },
      "execution_count": null,
      "outputs": [
        {
          "output_type": "stream",
          "name": "stdout",
          "text": [
            "Data Types\n",
            "product_id             object\n",
            "product_name           object\n",
            "category               object\n",
            "discounted_price       object\n",
            "actual_price           object\n",
            "discount_percentage    object\n",
            "rating                 object\n",
            "rating_count           object\n",
            "about_product          object\n",
            "user_id                object\n",
            "user_name              object\n",
            "review_id              object\n",
            "review_title           object\n",
            "review_content         object\n",
            "img_link               object\n",
            "product_link           object\n",
            "dtype: object\n"
          ]
        }
      ]
    },
    {
      "cell_type": "code",
      "source": [
        "# Question 5: What are the summary statistics of the dataset?\n",
        "print(\"Summary statistics:\")\n",
        "print(df.describe())"
      ],
      "metadata": {
        "colab": {
          "base_uri": "https://localhost:8080/"
        },
        "id": "6WBEiPpNCCss",
        "outputId": "40fd391c-3e68-4d9f-bf9d-a3034ddc2912"
      },
      "execution_count": null,
      "outputs": [
        {
          "output_type": "stream",
          "name": "stdout",
          "text": [
            "Summary statistics:\n",
            "        product_id                                       product_name  \\\n",
            "count         1465                                               1465   \n",
            "unique        1351                                               1337   \n",
            "top     B07JW9H4J1  Fire-Boltt Ninja Call Pro Plus 1.83\" Smart Wat...   \n",
            "freq             3                                                  5   \n",
            "\n",
            "                                                 category discounted_price  \\\n",
            "count                                                1465             1465   \n",
            "unique                                                211              550   \n",
            "top     Computers&Accessories|Accessories&Peripherals|...             ₹199   \n",
            "freq                                                  233               53   \n",
            "\n",
            "       actual_price discount_percentage rating rating_count  \\\n",
            "count          1465                1465   1465         1463   \n",
            "unique          449                  92     28         1143   \n",
            "top            ₹999                 50%    4.1        9,378   \n",
            "freq            120                  56    244            9   \n",
            "\n",
            "                                            about_product  \\\n",
            "count                                                1465   \n",
            "unique                                               1293   \n",
            "top     [CHARGE & SYNC FUNCTION]- This cable comes wit...   \n",
            "freq                                                    6   \n",
            "\n",
            "                                                  user_id  \\\n",
            "count                                                1465   \n",
            "unique                                               1194   \n",
            "top     AHIKJUDTVJ4T6DV6IUGFYZ5LXMPA,AE55KTFVNXYFD5FPY...   \n",
            "freq                                                   10   \n",
            "\n",
            "                                                user_name  \\\n",
            "count                                                1465   \n",
            "unique                                               1194   \n",
            "top     $@|\\|TO$|-|,Sethu madhav,Akash Thakur,Burger P...   \n",
            "freq                                                   10   \n",
            "\n",
            "                                                review_id  \\\n",
            "count                                                1465   \n",
            "unique                                               1194   \n",
            "top     R3F4T5TRYPTMIG,R3DQIEC603E7AY,R1O4Z15FD40PV5,R...   \n",
            "freq                                                   10   \n",
            "\n",
            "                                             review_title  \\\n",
            "count                                                1465   \n",
            "unique                                               1194   \n",
            "top     Worked on iPhone 7 and didn’t work on XR,Good ...   \n",
            "freq                                                   10   \n",
            "\n",
            "                                           review_content  \\\n",
            "count                                                1465   \n",
            "unique                                               1212   \n",
            "top     I am not big on camera usage, personally. I wa...   \n",
            "freq                                                    8   \n",
            "\n",
            "                                                 img_link  \\\n",
            "count                                                1465   \n",
            "unique                                               1412   \n",
            "top     https://m.media-amazon.com/images/I/413sCRKobN...   \n",
            "freq                                                    3   \n",
            "\n",
            "                                             product_link  \n",
            "count                                                1465  \n",
            "unique                                               1465  \n",
            "top     https://www.amazon.in/Wayona-Braided-WN3LG1-Sy...  \n",
            "freq                                                    1  \n"
          ]
        }
      ]
    },
    {
      "cell_type": "code",
      "source": [
        "# Question 6: What is the distribution of sales (discounted price vs. actual price)?\n",
        "print(\"Distribution of sales:\")\n",
        "print(df[['actual_price', 'discounted_price']].describe())"
      ],
      "metadata": {
        "colab": {
          "base_uri": "https://localhost:8080/"
        },
        "id": "7XZ-3eycCaey",
        "outputId": "5fcd911d-260d-40fc-ac82-c4867da6b66b"
      },
      "execution_count": null,
      "outputs": [
        {
          "output_type": "stream",
          "name": "stdout",
          "text": [
            "Distribution of sales:\n",
            "       actual_price discounted_price\n",
            "count          1465             1465\n",
            "unique          449              550\n",
            "top            ₹999             ₹199\n",
            "freq            120               53\n"
          ]
        }
      ]
    },
    {
      "cell_type": "code",
      "source": [
        "# Question 7: What are the top-selling products?\n",
        "print(\"Top-selling products:\\n\", df['product_name'].value_counts().head())"
      ],
      "metadata": {
        "colab": {
          "base_uri": "https://localhost:8080/"
        },
        "id": "w8s66u7uDaQO",
        "outputId": "4f93b30f-986c-4b74-fc64-0fa172b9144e"
      },
      "execution_count": null,
      "outputs": [
        {
          "output_type": "stream",
          "name": "stdout",
          "text": [
            "Top-selling products:\n",
            " Fire-Boltt Ninja Call Pro Plus 1.83\" Smart Watch with Bluetooth Calling, AI Voice Assistance, 100 Sports Modes IP67 Rating, 240*280 Pixel High Resolution             5\n",
            "Fire-Boltt Phoenix Smart Watch with Bluetooth Calling 1.3\",120+ Sports Modes, 240*240 PX High Res with SpO2, Heart Rate Monitoring & IP67 Rating                      4\n",
            "Wayona Nylon Braided USB to Lightning Fast Charging and Data Sync Cable Compatible for iPhone 13, 12,11, X, 8, 7, 6, 5, iPad Air, Pro, Mini (3 FT Pack of 1, Grey)    3\n",
            "MI Braided USB Type-C Cable for Charging Adapter (Red)                                                                                                                3\n",
            "Amazonbasics Nylon Braided Usb-C To Lightning Cable, Fast Charging Mfi Certified Smartphone, Iphone Charger (6-Foot, Dark Grey)                                       3\n",
            "Name: product_name, dtype: int64\n"
          ]
        }
      ]
    },
    {
      "cell_type": "code",
      "source": [
        "# Question 8: What is the distribution of sales by product category?\n",
        "print(\"Distribution of sales by product category:\")\n",
        "print(df['category'].value_counts())"
      ],
      "metadata": {
        "colab": {
          "base_uri": "https://localhost:8080/"
        },
        "id": "IoRX1zl3Dvcn",
        "outputId": "4720392d-0be9-483c-f83e-78668eb5083f"
      },
      "execution_count": null,
      "outputs": [
        {
          "output_type": "stream",
          "name": "stdout",
          "text": [
            "Distribution of sales by product category:\n",
            "Computers&Accessories|Accessories&Peripherals|Cables&Accessories|Cables|USBCables                                          233\n",
            "Electronics|WearableTechnology|SmartWatches                                                                                 76\n",
            "Electronics|Mobiles&Accessories|Smartphones&BasicMobiles|Smartphones                                                        68\n",
            "Electronics|HomeTheater,TV&Video|Televisions|SmartTelevisions                                                               63\n",
            "Electronics|Headphones,Earbuds&Accessories|Headphones|In-Ear                                                                52\n",
            "                                                                                                                          ... \n",
            "Electronics|Cameras&Photography|Accessories|Batteries&Chargers|BatteryChargers                                               1\n",
            "Computers&Accessories|NetworkingDevices|DataCards&Dongles                                                                    1\n",
            "Electronics|HomeAudio|Speakers|MultimediaSpeakerSystems                                                                      1\n",
            "OfficeProducts|OfficePaperProducts|Paper|Copy&PrintingPaper|ColouredPaper                                                    1\n",
            "Home&Kitchen|Kitchen&HomeAppliances|Vacuum,Cleaning&Ironing|Vacuums&FloorCare|VacuumAccessories|VacuumBags|HandheldBags      1\n",
            "Name: category, Length: 211, dtype: int64\n"
          ]
        }
      ]
    },
    {
      "cell_type": "code",
      "source": [
        "# Question 9: What is the average rating and rating count for products?\n",
        "avg_rating = df['rating'].mean()\n",
        "avg_rating_count = df['rating_count'].mean()\n",
        "print(\"Average Rating:\", avg_rating)\n",
        "print(\"Average Rating Count:\", avg_rating_count)"
      ],
      "metadata": {
        "colab": {
          "base_uri": "https://localhost:8080/"
        },
        "id": "gWitcW2kGoNc",
        "outputId": "9ef5947a-60a8-4688-9d04-eab6695e5faa"
      },
      "execution_count": 11,
      "outputs": [
        {
          "output_type": "stream",
          "name": "stdout",
          "text": [
            "Average Rating: 4.0965802047781565\n",
            "Average Rating Count: 18295.541353383458\n"
          ]
        }
      ]
    },
    {
      "cell_type": "code",
      "source": [
        "# Question 10: What is the distribution of products across different categories?\n",
        "correlation_matrix = df[['rating', 'rating_count', 'discounted_price']].corr()\n",
        "plt.figure(figsize=(8, 6))\n",
        "sns.heatmap(correlation_matrix, annot=True, cmap='coolwarm', fmt='.2f')\n",
        "plt.title('Correlation Matrix')\n",
        "plt.show()"
      ],
      "metadata": {
        "colab": {
          "base_uri": "https://localhost:8080/",
          "height": 602
        },
        "id": "TOwW-oQNJueI",
        "outputId": "718f217a-bf19-431b-bbec-b0d470a7d77a"
      },
      "execution_count": null,
      "outputs": [
        {
          "output_type": "stream",
          "name": "stderr",
          "text": [
            "<ipython-input-56-5da156a30509>:2: FutureWarning: The default value of numeric_only in DataFrame.corr is deprecated. In a future version, it will default to False. Select only valid columns or specify the value of numeric_only to silence this warning.\n",
            "  correlation_matrix = df[['rating', 'rating_count', 'discounted_price']].corr()\n"
          ]
        },
        {
          "output_type": "display_data",
          "data": {
            "text/plain": [
              "<Figure size 800x600 with 2 Axes>"
            ],
            "image/png": "[encoded data removed]"
          },
          "metadata": {}
        }
      ]
    },
    {
      "cell_type": "code",
      "source": [
        "# Question 11: What is the correlation between ratings, rating count, and discounted price?\n",
        "print(\"Correlation between ratings, rating count, and discounted price:\")\n",
        "print(df[['rating', 'rating_count', 'discounted_price']].corr())"
      ],
      "metadata": {
        "colab": {
          "base_uri": "https://localhost:8080/"
        },
        "id": "0NWpXZsZKY2s",
        "outputId": "eb702f56-f4ea-4c15-ef9e-819a31440f96"
      },
      "execution_count": null,
      "outputs": [
        {
          "output_type": "stream",
          "name": "stdout",
          "text": [
            "Correlation between ratings, rating count, and discounted price:\n",
            "        rating\n",
            "rating     1.0\n"
          ]
        },
        {
          "output_type": "stream",
          "name": "stderr",
          "text": [
            "<ipython-input-29-25dbac01d6f2>:3: FutureWarning: The default value of numeric_only in DataFrame.corr is deprecated. In a future version, it will default to False. Select only valid columns or specify the value of numeric_only to silence this warning.\n",
            "  print(df[['rating', 'rating_count', 'discounted_price']].corr())\n"
          ]
        }
      ]
    },
    {
      "cell_type": "code",
      "source": [
        "# Question 12: What are the top-rated products with a high number of ratings?\n",
        "df['rating_count'] = df['rating_count'].str.replace(',', '')\n",
        "\n",
        "df['rating_count'] = df['rating_count'].astype('float')\n",
        "df['rating_count'].mean()\n"
      ],
      "metadata": {
        "colab": {
          "base_uri": "https://localhost:8080/"
        },
        "id": "7_03c3BgLcP1",
        "outputId": "b90ebf0a-79e3-4837-c5f0-30fc6404ebbd"
      },
      "execution_count": 3,
      "outputs": [
        {
          "output_type": "execute_result",
          "data": {
            "text/plain": [
              "18295.541353383458"
            ]
          },
          "metadata": {},
          "execution_count": 3
        }
      ]
    },
    {
      "cell_type": "code",
      "source": [
        "# Question 13: What is the distribution of products by discount percentage?\n",
        "plt.figure(figsize=(8, 6))\n",
        "sns.histplot(df['discount_percentage'], bins=20, color='green')\n",
        "plt.title('Distribution of Discount Percentage')\n",
        "plt.xlabel('Discount Percentage')\n",
        "plt.ylabel('Count')\n",
        "plt.show()"
      ],
      "metadata": {
        "colab": {
          "base_uri": "https://localhost:8080/",
          "height": 564
        },
        "id": "dcBAgfr0NwYN",
        "outputId": "4107bcab-de37-4edb-c0eb-8d8229d60f02"
      },
      "execution_count": null,
      "outputs": [
        {
          "output_type": "display_data",
          "data": {
            "text/plain": [
              "<Figure size 800x600 with 1 Axes>"
            ],
            "image/png": "[encoded data removed]"
          },
          "metadata": {}
        }
      ]
    },
    {
      "cell_type": "code",
      "source": [
        "# Question 14: What is the average discount percentage by category?\n",
        "df['discount_percentage'] = df['discount_percentage'].str[:-1].astype('float')\n",
        "avg_disc_by_cat = df.groupby('category')['discount_percentage'].mean().sort_values(ascending = False)\n",
        "avg_disc_by_cat"
      ],
      "metadata": {
        "id": "kEOKQi4ONxa_",
        "colab": {
          "base_uri": "https://localhost:8080/"
        },
        "outputId": "1f08e4f2-5d87-425b-97e7-28d0a3f031d0"
      },
      "execution_count": 5,
      "outputs": [
        {
          "output_type": "execute_result",
          "data": {
            "text/plain": [
              "category\n",
              "Electronics|Mobiles&Accessories|MobileAccessories|Décor|PhoneCharms                                                 90.0\n",
              "Computers&Accessories|Accessories&Peripherals|Cables&Accessories|CableConnectionProtectors                          90.0\n",
              "Electronics|Headphones,Earbuds&Accessories|Earpads                                                                  90.0\n",
              "Electronics|Headphones,Earbuds&Accessories|Adapters                                                                 88.0\n",
              "Computers&Accessories|Accessories&Peripherals|Keyboards,Mice&InputDevices|Keyboard&MiceAccessories|DustCovers       87.5\n",
              "                                                                                                                    ... \n",
              "OfficeProducts|OfficeElectronics|Calculators|Basic                                                                   0.0\n",
              "Home&Kitchen|Kitchen&HomeAppliances|SmallKitchenAppliances|SmallApplianceParts&Accessories|StandMixerAccessories     0.0\n",
              "Electronics|HomeAudio|MediaStreamingDevices|StreamingClients                                                         0.0\n",
              "Electronics|Cameras&Photography|Accessories|Film                                                                     0.0\n",
              "Toys&Games|Arts&Crafts|Drawing&PaintingSupplies|ColouringPens&Markers                                                0.0\n",
              "Name: discount_percentage, Length: 211, dtype: float64"
            ]
          },
          "metadata": {},
          "execution_count": 5
        }
      ]
    },
    {
      "cell_type": "code",
      "source": [
        "# Question 15: What is the distribution of ratings for products?\n",
        "plt.figure(figsize=(8, 6))\n",
        "sns.histplot(df['rating'], bins=10, color='purple')\n",
        "plt.title('Distribution of Ratings')\n",
        "plt.xlabel('Rating')\n",
        "plt.ylabel('Count')\n",
        "plt.show()\n"
      ],
      "metadata": {
        "colab": {
          "base_uri": "https://localhost:8080/",
          "height": 564
        },
        "id": "6c2e2tkuN23_",
        "outputId": "67953ac1-3165-4307-8623-b9ea020ad804"
      },
      "execution_count": null,
      "outputs": [
        {
          "output_type": "display_data",
          "data": {
            "text/plain": [
              "<Figure size 800x600 with 1 Axes>"
            ],
            "image/png": "[encoded data removed]"
          },
          "metadata": {}
        }
      ]
    },
    {
      "cell_type": "code",
      "source": [
        "# Question 16: What is the average rating by category?\n",
        "avg_rating_by_category = df.groupby('category')['rating'].mean().sort_values(ascending=False)\n",
        "print(\"Average Rating by Category:\")\n",
        "print(avg_rating_by_category)\n"
      ],
      "metadata": {
        "colab": {
          "base_uri": "https://localhost:8080/"
        },
        "id": "lCf-zWCXOBZN",
        "outputId": "b25c526a-2576-45a3-9359-0053bc4d9b37"
      },
      "execution_count": null,
      "outputs": [
        {
          "output_type": "stream",
          "name": "stdout",
          "text": [
            "Average Rating by Category:\n",
            "category\n",
            "Computers&Accessories|Tablets                                                                                    4.6\n",
            "Computers&Accessories|NetworkingDevices|NetworkAdapters|PowerLANAdapters                                         4.5\n",
            "Electronics|Cameras&Photography|Accessories|Film                                                                 4.5\n",
            "Electronics|HomeAudio|MediaStreamingDevices|StreamingClients                                                     4.5\n",
            "OfficeProducts|OfficeElectronics|Calculators|Basic                                                               4.5\n",
            "                                                                                                                ... \n",
            "Computers&Accessories|Accessories&Peripherals|Audio&VideoAccessories|PCMicrophones                               3.6\n",
            "Electronics|HomeTheater,TV&Video|Accessories|3DGlasses                                                           3.5\n",
            "Computers&Accessories|Accessories&Peripherals|Audio&VideoAccessories|PCHeadsets                                  3.5\n",
            "Computers&Accessories|Accessories&Peripherals|Keyboards,Mice&InputDevices|Keyboard&MiceAccessories|DustCovers    3.4\n",
            "Home&Kitchen|Kitchen&HomeAppliances|Coffee,Tea&Espresso|CoffeeGrinders|ElectricGrinders                          3.3\n",
            "Name: rating, Length: 211, dtype: float64\n"
          ]
        }
      ]
    },
    {
      "cell_type": "code",
      "source": [
        "# Question 17: What are the most common rating counts for products?\n",
        "rating_count_distribution = df['rating_count'].value_counts().nlargest(5)\n",
        "print(\"Most common rating counts for products:\")\n",
        "print(rating_count_distribution)"
      ],
      "metadata": {
        "colab": {
          "base_uri": "https://localhost:8080/"
        },
        "id": "6bTJwBrzOHc9",
        "outputId": "df61e645-69a6-41ea-b998-5c42a9e318a8"
      },
      "execution_count": null,
      "outputs": [
        {
          "output_type": "stream",
          "name": "stdout",
          "text": [
            "Most common rating counts for products:\n",
            "9,378     9\n",
            "18,998    8\n",
            "24,269    7\n",
            "43,994    6\n",
            "32,840    5\n",
            "Name: rating_count, dtype: int64\n"
          ]
        }
      ]
    },
    {
      "cell_type": "code",
      "source": [
        "# Question 18: What is the distribution of user ratings?\n",
        "plt.figure(figsize=(8, 6))\n",
        "sns.countplot(x='rating', data=df, palette='Blues_r')\n",
        "plt.title('Distribution of User Ratings')\n",
        "plt.xlabel('Rating')\n",
        "plt.ylabel('Count')\n",
        "plt.show()"
      ],
      "metadata": {
        "colab": {
          "base_uri": "https://localhost:8080/",
          "height": 564
        },
        "id": "-pRYd-X_OJh5",
        "outputId": "f0bdab30-5009-47c1-efdb-0e39ff80d02c"
      },
      "execution_count": null,
      "outputs": [
        {
          "output_type": "display_data",
          "data": {
            "text/plain": [
              "<Figure size 800x600 with 1 Axes>"
            ],
            "image/png": "[encoded data removed]"
          },
          "metadata": {}
        }
      ]
    },
    {
      "cell_type": "code",
      "source": [
        "# Question 19: What are the top-rated products with the highest discounts?\n",
        "top_rated_discounted_products = df[df['rating'] >= 4.5].nlargest(5, 'discount_percentage')[['product_name', 'rating', 'discount_percentage']]\n",
        "print(\"Top-rated products with the highest discounts:\")\n",
        "print(top_rated_discounted_products)\n"
      ],
      "metadata": {
        "id": "bO95PTQFO_cR",
        "colab": {
          "base_uri": "https://localhost:8080/"
        },
        "outputId": "140caa9a-3eab-4306-e771-b9dfa51563c7"
      },
      "execution_count": 6,
      "outputs": [
        {
          "output_type": "stream",
          "name": "stdout",
          "text": [
            "Top-rated products with the highest discounts:\n",
            "                                           product_name  rating  \\\n",
            "1387  ELV Aluminum Adjustable Mobile Phone Foldable ...     4.5   \n",
            "1418  Cotbolt Silicone Protective Case Cover for LG ...     4.5   \n",
            "1429  Aqua d pure Active Copper 12-L RO+UV Water Fil...     4.5   \n",
            "1432  Lapster 65W compatible for OnePlus Dash Warp C...     4.5   \n",
            "1433  Lapster 65W compatible for OnePlus Dash Warp C...     4.5   \n",
            "\n",
            "      discount_percentage  \n",
            "1387                 82.0  \n",
            "1418                 80.0  \n",
            "1429                 80.0  \n",
            "1432                 80.0  \n",
            "1433                 80.0  \n"
          ]
        }
      ]
    },
    {
      "cell_type": "code",
      "source": [
        "# Question 20: What is the average discounted price by category?\n",
        "df['discounted_price'] = df['discounted_price'].str.replace('₹', '').str.replace(',', '').astype('float')\n",
        "avg_disc_price_by_cat = df.groupby('category')['discounted_price'].mean().sort_values(ascending=False)\n",
        "avg_disc_price_by_cat"
      ],
      "metadata": {
        "id": "r67Dghw_XwTh",
        "colab": {
          "base_uri": "https://localhost:8080/"
        },
        "outputId": "1dd4a77b-a153-4da7-b1c3-bde53b4f8206"
      },
      "execution_count": 8,
      "outputs": [
        {
          "output_type": "execute_result",
          "data": {
            "text/plain": [
              "category\n",
              "Home&Kitchen|Heating,Cooling&AirQuality|AirConditioners|Split-SystemAirConditioners                              42990.000000\n",
              "Computers&Accessories|Laptops|TraditionalLaptops                                                                 37247.000000\n",
              "Computers&Accessories|Tablets                                                                                    26999.000000\n",
              "Electronics|HomeTheater,TV&Video|Televisions|SmartTelevisions                                                    24840.190476\n",
              "Home&Kitchen|Kitchen&HomeAppliances|Vacuum,Cleaning&Ironing|Vacuums&FloorCare|Vacuums|RoboticVacuums             23449.500000\n",
              "                                                                                                                     ...     \n",
              "Computers&Accessories|Accessories&Peripherals|Cables&Accessories|CableConnectionProtectors                          99.000000\n",
              "OfficeProducts|OfficePaperProducts|Paper|Stationery|Pens,Pencils&WritingSupplies|Pens&Refills|BottledInk            95.000000\n",
              "Home&Kitchen|CraftMaterials|DrawingMaterials|DrawingMedia|Pens                                                      90.000000\n",
              "Electronics|Mobiles&Accessories|MobileAccessories|Mounts|Shower&WallMounts                                          89.000000\n",
              "Computers&Accessories|Accessories&Peripherals|Keyboards,Mice&InputDevices|Keyboard&MiceAccessories|DustCovers       77.000000\n",
              "Name: discounted_price, Length: 211, dtype: float64"
            ]
          },
          "metadata": {},
          "execution_count": 8
        }
      ]
    },
    {
      "cell_type": "code",
      "source": [
        "df['rating_count'] = df['rating_count'].replace([','], '')\n",
        "print(\"Replace the entries\")\n",
        "print(df)\n",
        "print()"
      ],
      "metadata": {
        "colab": {
          "base_uri": "https://localhost:8080/"
        },
        "id": "E08WZSLfZ-H7",
        "outputId": "e9fe55b8-3064-4cac-d326-58d43ea2084b"
      },
      "execution_count": null,
      "outputs": [
        {
          "output_type": "stream",
          "name": "stdout",
          "text": [
            "Replace the entries\n",
            "      product_id                                       product_name  \\\n",
            "0     B0BPJBTB3F  Khaitan ORFin Fan heater for Home and kitchen-...   \n",
            "1     B0BFBNXS94  Personal Size Blender, Portable Blender, Batte...   \n",
            "2     B0B7L86YCB  Green Tales Heat Seal Mini Food Sealer-Impulse...   \n",
            "3     B0BBVKRP7B  SHREENOVA ID116 Plus Bluetooth Fitness Smart W...   \n",
            "4     B0BNDGL26T  MR. BRAND Portable USB Juicer Electric USB Jui...   \n",
            "...          ...                                                ...   \n",
            "1460  B0BR4F878Q  Swiffer Instant Electric Water Heater Faucet T...   \n",
            "1461  B09ZHCJDP1  Amazon Basics Wireless Mouse | 2.4 GHz Connect...   \n",
            "1462  B0BP7XLX48  Syncwire LTG to USB Cable for Fast Charging Co...   \n",
            "1463  B0BQRJ3C47  REDTECH USB-C to Lightning Cable 3.3FT, [Apple...   \n",
            "1464  B08L12N5H1  Eureka Forbes car Vac 100 Watts Powerful Sucti...   \n",
            "\n",
            "                                               category discounted_price  \\\n",
            "0     Home&Kitchen|Heating,Cooling&AirQuality|RoomHe...           ₹1,299   \n",
            "1     Home&Kitchen|Kitchen&HomeAppliances|SmallKitch...             ₹669   \n",
            "2     Home&Kitchen|Kitchen&HomeAppliances|SmallKitch...             ₹161   \n",
            "3           Electronics|WearableTechnology|SmartWatches             ₹281   \n",
            "4     Home&Kitchen|Kitchen&HomeAppliances|SmallKitch...             ₹499   \n",
            "...                                                 ...              ...   \n",
            "1460  Home&Kitchen|Heating,Cooling&AirQuality|WaterH...           ₹1,439   \n",
            "1461  Computers&Accessories|Accessories&Peripherals|...             ₹499   \n",
            "1462  Computers&Accessories|Accessories&Peripherals|...             ₹399   \n",
            "1463  Computers&Accessories|Accessories&Peripherals|...             ₹249   \n",
            "1464  Home&Kitchen|Kitchen&HomeAppliances|Vacuum,Cle...           ₹2,099   \n",
            "\n",
            "     actual_price discount_percentage  rating rating_count  \\\n",
            "0          ₹2,495                 48%    2.00            2   \n",
            "1          ₹1,499                 55%    2.30           13   \n",
            "2            ₹300                 46%    2.60           24   \n",
            "3          ₹1,999                 86%    2.80           87   \n",
            "4          ₹2,199                 77%    2.80          109   \n",
            "...           ...                 ...     ...          ...   \n",
            "1460       ₹1,999                 28%    4.80       53,803   \n",
            "1461       ₹1,000                 50%    5.00           23   \n",
            "1462       ₹1,999                 80%    5.00            5   \n",
            "1463         ₹999                 75%    5.00          nan   \n",
            "1464       ₹2,499                 16%    4.09          992   \n",
            "\n",
            "                                          about_product  \\\n",
            "0     Khaitan Orfin Fan heater for Home and kitchen|...   \n",
            "1     ✔【Easy to carry around】- This handheld blender...   \n",
            "2     Sealing Machine use for snack food saver stora...   \n",
            "3     ✅ All-day activity tracking: Track steps, dist...   \n",
            "4     Portable & Convenient to Charge: This little b...   \n",
            "...                                                 ...   \n",
            "1460  ✔Quick Electric Hot Water Tap Heating tube: hi...   \n",
            "1461  Reliable wireless connection up to 10m|Advance...   \n",
            "1462  This sturdy and durable cable made of tpe and ...   \n",
            "1463  💎[The Fastest Charge] - This iPhone USB C cabl...   \n",
            "1464  No Installation is provided for this product|1...   \n",
            "\n",
            "                                                user_id  \\\n",
            "0     AGHT3K4KSG5MAQUSXRDT5VNB73GA,AE4Q5XQ7SZW35EEUJ...   \n",
            "1     AHRDA66XO63XYCBZJMW4EUJN3BFQ,AELE2SOO7LBNHXU7U...   \n",
            "2     AG2BB3Q2AQB7SBFBURGYSMFHDAOA,AGFXIO346VXYI35AN...   \n",
            "3     AHSYI7EUDN2RNS2IPMGAS5MKLXPQ,AHHLJNBYVOGQSFG2Q...   \n",
            "4     AEJKHGA26MUVUZIYWZOW4B6I4X7Q,AF3B47EOSBULYG63E...   \n",
            "...                                                 ...   \n",
            "1460  AEU7DVFEL43XZ6T4D572W2ZLBRKQ,AGWOH7CFDMUVW52NM...   \n",
            "1461  AFLLEPVLIAH2DFSHAZ77KWFM72ZA,AHY2YZWK63CNZ626M...   \n",
            "1462  AF7EOXYL5K36BDP6PXF6K2TL5TPA,AEN7NV2P5WNHM7EXC...   \n",
            "1463                       AGJC5O5H5BBXWUV7WRIEIOOR3TVQ   \n",
            "1464  AGTDSNT2FKVYEPDPXAA673AIS44A,AER2XFSWNN4LAUCJ5...   \n",
            "\n",
            "                                              user_name  \\\n",
            "0                             Manidipa Sengupta,Vidisha   \n",
            "1         Manya,Been,Podili Parasuram,Rejoy Jacob,Priya   \n",
            "2     Navin thawani,Amazon Customer,Jemiba Lawrence,...   \n",
            "3     dk yadav,MUKESH KUMAR VERMA,Vishnu,Shaikh Shah...   \n",
            "4     Yashvant Gote,Nargis Sultana,S.I.KUMAR,Ravi,Lo...   \n",
            "...                                                 ...   \n",
            "1460                    Yogita g.,Amazon Customer,Mimsy   \n",
            "1461  Rambeer kumar,Ramesh,Digambar Shelke,awadhesh ...   \n",
            "1462  Amazon Customer,kamal sahota,Pankaj,luvsmplcty...   \n",
            "1463                                        Abdul Gafur   \n",
            "1464  Divya,Dr Nefario,Deekshith,Preeti,Prasanth R,P...   \n",
            "\n",
            "                                              review_id  \\\n",
            "0                          R1OO2ED6615EX1,RR4S5JTJMCPA5   \n",
            "1     R1WJ8T3U9P42IU,RM9RH8FX9U95D,R31M8UXT7NLOMY,R1...   \n",
            "2     R3M6NH8U0C7JBM,R32DO8SLNF2JSA,R3U0NCD7XO2KX4,R...   \n",
            "3     RQOWF9MFTN6CQ,R23B5JORWWE85P,R3SB0VOD36AXI0,R2...   \n",
            "4     RGB7OLWZEBW2D,R35V1I6KBBWDA1,R2S9K0UTNSD0L6,R3...   \n",
            "...                                                 ...   \n",
            "1460       R2WHW4PEF14WOD,R2DCCZWUGI0O0K,R1FA1HH6VL1RAL   \n",
            "1461  R76XPXMKXLWKH,R23S77AWPH5FP5,RK7Q6W5FOPESC,R2X...   \n",
            "1462  R1L2JNO4Y3BHYF,R2346F22YLZ9IG,R3A4GAQTCPE5U7,R...   \n",
            "1463                                      RQXD5SAMMPC6L   \n",
            "1464  R2KKTKM4M9RDVJ,R1O692MZOBTE79,R2WRSEWL56SOS4,R...   \n",
            "\n",
            "                                           review_title  \\\n",
            "0                         Bad quality,Amazing product..   \n",
            "1     Nice product i recommend to buy,Do not buy!! D...   \n",
            "2     It is broken,Could have been a bit better,The ...   \n",
            "3     Very Good prodat,Battery life is 0 day,Good,Wh...   \n",
            "4     Portable but not much powerful,not so good. po...   \n",
            "...                                                 ...   \n",
            "1460  Best Product,It’s expansive but it works well ...   \n",
            "1461  Very responsive and stylish mouse,Simply Aweso...   \n",
            "1462  Good,Superb quality,Good products  nice one,Wo...   \n",
            "1463                                    Awesome Product   \n",
            "1464  Decent product,doesn't pick up sand,Ok ok,Must...   \n",
            "\n",
            "                                         review_content  \\\n",
            "0     The heating capacity is zero .Moreover i have ...   \n",
            "1     I liked that it is so convenient to carry,Wast...   \n",
            "2     It is broken and it is not useful. Please chan...   \n",
            "3     Good Prodat,Battery life is so bad.,Nice produ...   \n",
            "4     Not sufficient power,the product is more like ...   \n",
            "...                                                 ...   \n",
            "1460  Must buy best Fabulous product I recommend thi...   \n",
            "1461  I really like this wireless mouse it has becam...   \n",
            "1462  Product is good in quality. Working good with ...   \n",
            "1463  Quick delivery.Awesome ProductPacking was good...   \n",
            "1464  Does the job well,doesn't work on sand. though...   \n",
            "\n",
            "                                               img_link  \\\n",
            "0     https://m.media-amazon.com/images/W/WEBP_40237...   \n",
            "1     https://m.media-amazon.com/images/I/417TQs3uro...   \n",
            "2     https://m.media-amazon.com/images/W/WEBP_40237...   \n",
            "3     https://m.media-amazon.com/images/I/41lnTFZGz9...   \n",
            "4     https://m.media-amazon.com/images/I/51pFS9lDzM...   \n",
            "...                                                 ...   \n",
            "1460  https://m.media-amazon.com/images/I/41+t2HWvwF...   \n",
            "1461  https://m.media-amazon.com/images/I/31+Rg6Z46d...   \n",
            "1462  https://m.media-amazon.com/images/I/317OoQfs1g...   \n",
            "1463  https://m.media-amazon.com/images/I/31-q0xhaTA...   \n",
            "1464  https://m.media-amazon.com/images/W/WEBP_40237...   \n",
            "\n",
            "                                           product_link  \n",
            "0     https://www.amazon.in/Khaitan-ORFin-heater-Hom...  \n",
            "1     https://www.amazon.in/Personal-Blender-Portabl...  \n",
            "2     https://www.amazon.in/Green-Tales-Sealer-Impul...  \n",
            "3     https://www.amazon.in/SHREENOVA-Bluetooth-Fitn...  \n",
            "4     https://www.amazon.in/MR-BRAND-Portable-Electr...  \n",
            "...                                                 ...  \n",
            "1460  https://www.amazon.in/Swiffer-Instant-Electric...  \n",
            "1461  https://www.amazon.in/Wireless-Connection-Batt...  \n",
            "1462  https://www.amazon.in/Syncwire-Cable-Charging-...  \n",
            "1463  https://www.amazon.in/REDTECH-Lightning-Certif...  \n",
            "1464  https://www.amazon.in/Eureka-Forbes-Vacuum-Cle...  \n",
            "\n",
            "[1465 rows x 16 columns]\n",
            "\n"
          ]
        }
      ]
    }
  ]
}